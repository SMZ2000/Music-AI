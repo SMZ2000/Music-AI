{
 "cells": [
  {
   "cell_type": "code",
   "execution_count": 2,
   "id": "46c860a9",
   "metadata": {},
   "outputs": [
    {
     "name": "stdout",
     "output_type": "stream",
     "text": [
      "torch: 2.8.0+cu128 cuda: 12.8\n",
      "CUDA available: True\n",
      "Device: NVIDIA GeForce RTX 3080\n"
     ]
    }
   ],
   "source": [
    "\n",
    "import torch\n",
    "print(\"torch:\", torch.__version__, \"cuda:\", torch.version.cuda)\n",
    "print(\"CUDA available:\", torch.cuda.is_available())\n",
    "print(\"Device:\", torch.cuda.get_device_name(0) if torch.cuda.is_available() else \"CPU\")\n"
   ]
  },
  {
   "cell_type": "code",
   "execution_count": 3,
   "id": "e14faf4a",
   "metadata": {},
   "outputs": [],
   "source": [
    "from transformers import pipeline, VideoMAEForVideoClassification\n",
    "import accelerate\n",
    "import scipy\n",
    "import librosa as lr\n",
    "import soundfile as sf\n",
    "import numpy as np\n",
    "import pandas as pd\n",
    "import os\n",
    "import tensorflow as tf"
   ]
  },
  {
   "cell_type": "markdown",
   "id": "114a9613",
   "metadata": {},
   "source": [
    "# Video emotion detection\n",
    "- training a model to detect the emotion present in a video or scene\n",
    "- the scene may have people in it or maybe it could convey a mood based on the color\n",
    "- I selected VideoMAE because it is very effcient with data meaning that it can be used when i dont have enough video data\n"
   ]
  },
  {
   "cell_type": "code",
   "execution_count": 5,
   "id": "6e410f68",
   "metadata": {},
   "outputs": [
    {
     "name": "stdout",
     "output_type": "stream",
     "text": [
      "VideoMAE is loaded\n"
     ]
    }
   ],
   "source": [
    "MAE_model = VideoMAEForVideoClassification.from_pretrained(\"MCG-NJU/videomae-base-finetuned-kinetics\", attn_implementation=\"sdpa\", dtype=torch.float16)\n",
    "print(\"VideoMAE is loaded\")"
   ]
  }
 ],
 "metadata": {
  "kernelspec": {
   "display_name": ".venv",
   "language": "python",
   "name": "python3"
  },
  "language_info": {
   "codemirror_mode": {
    "name": "ipython",
    "version": 3
   },
   "file_extension": ".py",
   "mimetype": "text/x-python",
   "name": "python",
   "nbconvert_exporter": "python",
   "pygments_lexer": "ipython3",
   "version": "3.10.12"
  }
 },
 "nbformat": 4,
 "nbformat_minor": 5
}
