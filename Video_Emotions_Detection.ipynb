{
 "cells": [
  {
   "cell_type": "code",
   "execution_count": 2,
   "id": "46c860a9",
   "metadata": {},
   "outputs": [
    {
     "name": "stdout",
     "output_type": "stream",
     "text": [
      "torch: 2.8.0+cu128 cuda: 12.8\n",
      "CUDA available: True\n",
      "Device: NVIDIA GeForce RTX 3080\n"
     ]
    }
   ],
   "source": [
    "\n",
    "import torch\n",
    "print(\"torch:\", torch.__version__, \"cuda:\", torch.version.cuda)\n",
    "print(\"CUDA available:\", torch.cuda.is_available())\n",
    "print(\"Device:\", torch.cuda.get_device_name(0) if torch.cuda.is_available() else \"CPU\")\n"
   ]
  },
  {
   "cell_type": "code",
   "execution_count": 3,
   "id": "e14faf4a",
   "metadata": {},
   "outputs": [
    {
     "name": "stderr",
     "output_type": "stream",
     "text": [
      "/mnt/c/Users/Admin/Documents/GitHub/Music-AI/.venv/lib/python3.10/site-packages/tqdm/auto.py:21: TqdmWarning: IProgress not found. Please update jupyter and ipywidgets. See https://ipywidgets.readthedocs.io/en/stable/user_install.html\n",
      "  from .autonotebook import tqdm as notebook_tqdm\n",
      "2025-10-22 19:12:27.249576: I tensorflow/core/util/port.cc:153] oneDNN custom operations are on. You may see slightly different numerical results due to floating-point round-off errors from different computation orders. To turn them off, set the environment variable `TF_ENABLE_ONEDNN_OPTS=0`.\n",
      "2025-10-22 19:12:28.028741: I tensorflow/core/platform/cpu_feature_guard.cc:210] This TensorFlow binary is optimized to use available CPU instructions in performance-critical operations.\n",
      "To enable the following instructions: AVX2 AVX_VNNI FMA, in other operations, rebuild TensorFlow with the appropriate compiler flags.\n",
      "2025-10-22 19:12:42.658116: I tensorflow/core/util/port.cc:153] oneDNN custom operations are on. You may see slightly different numerical results due to floating-point round-off errors from different computation orders. To turn them off, set the environment variable `TF_ENABLE_ONEDNN_OPTS=0`.\n"
     ]
    }
   ],
   "source": [
    "from transformers import pipeline, VideoMAEForVideoClassification\n",
    "import accelerate\n",
    "import scipy\n",
    "import librosa as lr\n",
    "import soundfile as sf\n",
    "import numpy as np\n",
    "import pandas as pd\n",
    "import os\n",
    "import tensorflow as tf\n",
    "from datasets import load_dataset\n",
    "from decord import VideoReader\n",
    "from decord import cpu, gpu\n",
    "import kagglehub\n"
   ]
  },
  {
   "cell_type": "markdown",
   "id": "114a9613",
   "metadata": {},
   "source": [
    "# Video emotion detection\n",
    "- training a model to detect the emotion present in a video or scene\n",
    "- the scene may have people in it or maybe it could convey a mood based on the color\n",
    "- I selected VideoMAE because it is very effcient with data meaning that it can be used when i dont have enough video data\n"
   ]
  },
  {
   "cell_type": "code",
   "execution_count": 4,
   "id": "6e410f68",
   "metadata": {},
   "outputs": [
    {
     "name": "stdout",
     "output_type": "stream",
     "text": [
      "VideoMAE is loaded\n"
     ]
    }
   ],
   "source": [
    "# Load VideoMAE model\n",
    "MAE_model = VideoMAEForVideoClassification.from_pretrained(\"MCG-NJU/videomae-base-finetuned-kinetics\", attn_implementation=\"sdpa\", dtype=torch.float16)\n",
    "print(\"VideoMAE is loaded\")"
   ]
  },
  {
   "cell_type": "markdown",
   "id": "cb9c10aa",
   "metadata": {},
   "source": [
    "# Preprocessing the Video data for emotion detection\n"
   ]
  },
  {
   "cell_type": "code",
   "execution_count": 5,
   "id": "49da7ec1",
   "metadata": {},
   "outputs": [
    {
     "name": "stdout",
     "output_type": "stream",
     "text": [
      "Path to dataset files: /home/zach/.cache/kagglehub/datasets/vishnutheepb/msrvtt/versions/1\n"
     ]
    }
   ],
   "source": [
    "# using the `kagglehub` library to download the MSR-VTT dataset\n",
    "path = kagglehub.dataset_download(\"vishnutheepb/msrvtt\")\n",
    "msrvtt_videos_path = \"/home/zach/.cache/kagglehub/datasets/vishnutheepb/msrvtt/versions/1/TrainValVideo\"\n",
    "print(\"Path to dataset files:\", path)"
   ]
  },
  {
   "cell_type": "code",
   "execution_count": 6,
   "id": "6316ae93",
   "metadata": {},
   "outputs": [
    {
     "name": "stdout",
     "output_type": "stream",
     "text": [
      "Number of videos in MSR-VTT dataset: 7010\n",
      "Sample video file: ['video1250.mp4', 'video4543.mp4', 'video6671.mp4', 'video1990.mp4', 'video6803.mp4']\n",
      "my_variable is a list.\n"
     ]
    }
   ],
   "source": [
    "videos_list = os.listdir(msrvtt_videos_path)\n",
    "print(\"Number of videos in MSR-VTT dataset:\", len(videos_list))\n",
    "print(\"Sample video file:\", videos_list[:5])\n",
    "if isinstance(videos_list, list):\n",
    "    print(\"my_variable is a list.\")"
   ]
  },
  {
   "cell_type": "code",
   "execution_count": 17,
   "id": "e0d8a9ab",
   "metadata": {},
   "outputs": [
    {
     "name": "stdout",
     "output_type": "stream",
     "text": [
      "Sample file paths: ['/home/zach/.cache/kagglehub/datasets/vishnutheepb/msrvtt/versions/1/TrainValVideo/video1250.mp4', '/home/zach/.cache/kagglehub/datasets/vishnutheepb/msrvtt/versions/1/TrainValVideo/video4543.mp4', '/home/zach/.cache/kagglehub/datasets/vishnutheepb/msrvtt/versions/1/TrainValVideo/video6671.mp4', '/home/zach/.cache/kagglehub/datasets/vishnutheepb/msrvtt/versions/1/TrainValVideo/video1990.mp4', '/home/zach/.cache/kagglehub/datasets/vishnutheepb/msrvtt/versions/1/TrainValVideo/video6803.mp4']\n"
     ]
    },
    {
     "data": {
      "text/html": [
       "<div>\n",
       "<style scoped>\n",
       "    .dataframe tbody tr th:only-of-type {\n",
       "        vertical-align: middle;\n",
       "    }\n",
       "\n",
       "    .dataframe tbody tr th {\n",
       "        vertical-align: top;\n",
       "    }\n",
       "\n",
       "    .dataframe thead th {\n",
       "        text-align: right;\n",
       "    }\n",
       "</style>\n",
       "<table border=\"1\" class=\"dataframe\">\n",
       "  <thead>\n",
       "    <tr style=\"text-align: right;\">\n",
       "      <th></th>\n",
       "      <th>file_path</th>\n",
       "      <th>video_name</th>\n",
       "    </tr>\n",
       "  </thead>\n",
       "  <tbody>\n",
       "    <tr>\n",
       "      <th>0</th>\n",
       "      <td>/home/zach/.cache/kagglehub/datasets/vishnuthe...</td>\n",
       "      <td>video1250.mp4</td>\n",
       "    </tr>\n",
       "    <tr>\n",
       "      <th>1</th>\n",
       "      <td>/home/zach/.cache/kagglehub/datasets/vishnuthe...</td>\n",
       "      <td>video4543.mp4</td>\n",
       "    </tr>\n",
       "    <tr>\n",
       "      <th>2</th>\n",
       "      <td>/home/zach/.cache/kagglehub/datasets/vishnuthe...</td>\n",
       "      <td>video6671.mp4</td>\n",
       "    </tr>\n",
       "    <tr>\n",
       "      <th>3</th>\n",
       "      <td>/home/zach/.cache/kagglehub/datasets/vishnuthe...</td>\n",
       "      <td>video1990.mp4</td>\n",
       "    </tr>\n",
       "    <tr>\n",
       "      <th>4</th>\n",
       "      <td>/home/zach/.cache/kagglehub/datasets/vishnuthe...</td>\n",
       "      <td>video6803.mp4</td>\n",
       "    </tr>\n",
       "  </tbody>\n",
       "</table>\n",
       "</div>"
      ],
      "text/plain": [
       "                                           file_path     video_name\n",
       "0  /home/zach/.cache/kagglehub/datasets/vishnuthe...  video1250.mp4\n",
       "1  /home/zach/.cache/kagglehub/datasets/vishnuthe...  video4543.mp4\n",
       "2  /home/zach/.cache/kagglehub/datasets/vishnuthe...  video6671.mp4\n",
       "3  /home/zach/.cache/kagglehub/datasets/vishnuthe...  video1990.mp4\n",
       "4  /home/zach/.cache/kagglehub/datasets/vishnuthe...  video6803.mp4"
      ]
     },
     "execution_count": 17,
     "metadata": {},
     "output_type": "execute_result"
    }
   ],
   "source": [
    "# getting all of the file paths to add to a dataframe\n",
    "file_paths = [os.path.join(msrvtt_videos_path, f) for f in videos_list]\n",
    "print(\"Sample file paths:\", file_paths[:5])\n",
    "\n",
    "# turn the video paths into a dataframe\n",
    "path_df = pd.DataFrame({\n",
    "    \"file_path\": file_paths,\n",
    "})\n",
    "\n",
    "\n",
    "# extract the video names from the file paths\n",
    "path_df[\"video_name\"] = path_df[\"file_path\"].apply(os.path.basename)\n",
    "path_df.head()"
   ]
  },
  {
   "cell_type": "code",
   "execution_count": 14,
   "id": "f5ad7b8a",
   "metadata": {},
   "outputs": [
    {
     "data": {
      "text/html": [
       "<div>\n",
       "<style scoped>\n",
       "    .dataframe tbody tr th:only-of-type {\n",
       "        vertical-align: middle;\n",
       "    }\n",
       "\n",
       "    .dataframe tbody tr th {\n",
       "        vertical-align: top;\n",
       "    }\n",
       "\n",
       "    .dataframe thead th {\n",
       "        text-align: right;\n",
       "    }\n",
       "</style>\n",
       "<table border=\"1\" class=\"dataframe\">\n",
       "  <thead>\n",
       "    <tr style=\"text-align: right;\">\n",
       "      <th></th>\n",
       "      <th>video_id</th>\n",
       "      <th>video</th>\n",
       "      <th>caption</th>\n",
       "      <th>source</th>\n",
       "      <th>category</th>\n",
       "      <th>url</th>\n",
       "      <th>start time</th>\n",
       "      <th>end time</th>\n",
       "      <th>id</th>\n",
       "    </tr>\n",
       "  </thead>\n",
       "  <tbody>\n",
       "    <tr>\n",
       "      <th>0</th>\n",
       "      <td>video0</td>\n",
       "      <td>video0.mp4</td>\n",
       "      <td>[a car is shown, a group is dancing, a man dri...</td>\n",
       "      <td>MSR-VTT</td>\n",
       "      <td>9</td>\n",
       "      <td>https://www.youtube.com/watch?v=9lZi22qLlEo</td>\n",
       "      <td>137.72</td>\n",
       "      <td>149.44</td>\n",
       "      <td>0</td>\n",
       "    </tr>\n",
       "    <tr>\n",
       "      <th>1</th>\n",
       "      <td>video1</td>\n",
       "      <td>video1.mp4</td>\n",
       "      <td>[in a kitchen a woman adds different ingredien...</td>\n",
       "      <td>MSR-VTT</td>\n",
       "      <td>16</td>\n",
       "      <td>https://www.youtube.com/watch?v=w4JM08PDEng</td>\n",
       "      <td>184.33</td>\n",
       "      <td>206.89</td>\n",
       "      <td>1</td>\n",
       "    </tr>\n",
       "    <tr>\n",
       "      <th>2</th>\n",
       "      <td>video2</td>\n",
       "      <td>video2.mp4</td>\n",
       "      <td>[a guying showing a tool, a man fixes a car, a...</td>\n",
       "      <td>MSR-VTT</td>\n",
       "      <td>9</td>\n",
       "      <td>https://www.youtube.com/watch?v=QA7KVQq9vKA</td>\n",
       "      <td>31.17</td>\n",
       "      <td>41.24</td>\n",
       "      <td>2</td>\n",
       "    </tr>\n",
       "    <tr>\n",
       "      <th>3</th>\n",
       "      <td>video3</td>\n",
       "      <td>video3.mp4</td>\n",
       "      <td>[a big door is being opened in a video game, a...</td>\n",
       "      <td>MSR-VTT</td>\n",
       "      <td>8</td>\n",
       "      <td>https://www.youtube.com/watch?v=QFmJZ0GU6yc</td>\n",
       "      <td>48.26</td>\n",
       "      <td>58.51</td>\n",
       "      <td>3</td>\n",
       "    </tr>\n",
       "    <tr>\n",
       "      <th>4</th>\n",
       "      <td>video4</td>\n",
       "      <td>video4.mp4</td>\n",
       "      <td>[a girl wearing a black shirt, a man is arguin...</td>\n",
       "      <td>MSR-VTT</td>\n",
       "      <td>14</td>\n",
       "      <td>https://www.youtube.com/watch?v=2q-dONPhzis</td>\n",
       "      <td>268.58</td>\n",
       "      <td>278.83</td>\n",
       "      <td>4</td>\n",
       "    </tr>\n",
       "  </tbody>\n",
       "</table>\n",
       "</div>"
      ],
      "text/plain": [
       "  video_id       video                                            caption  \\\n",
       "0   video0  video0.mp4  [a car is shown, a group is dancing, a man dri...   \n",
       "1   video1  video1.mp4  [in a kitchen a woman adds different ingredien...   \n",
       "2   video2  video2.mp4  [a guying showing a tool, a man fixes a car, a...   \n",
       "3   video3  video3.mp4  [a big door is being opened in a video game, a...   \n",
       "4   video4  video4.mp4  [a girl wearing a black shirt, a man is arguin...   \n",
       "\n",
       "    source  category                                          url  start time  \\\n",
       "0  MSR-VTT         9  https://www.youtube.com/watch?v=9lZi22qLlEo      137.72   \n",
       "1  MSR-VTT        16  https://www.youtube.com/watch?v=w4JM08PDEng      184.33   \n",
       "2  MSR-VTT         9  https://www.youtube.com/watch?v=QA7KVQq9vKA       31.17   \n",
       "3  MSR-VTT         8  https://www.youtube.com/watch?v=QFmJZ0GU6yc       48.26   \n",
       "4  MSR-VTT        14  https://www.youtube.com/watch?v=2q-dONPhzis      268.58   \n",
       "\n",
       "   end time  id  \n",
       "0    149.44   0  \n",
       "1    206.89   1  \n",
       "2     41.24   2  \n",
       "3     58.51   3  \n",
       "4    278.83   4  "
      ]
     },
     "execution_count": 14,
     "metadata": {},
     "output_type": "execute_result"
    }
   ],
   "source": [
    "# loading MSR-VTT dataset with the train_7k split and convert it to a dataframe\n",
    "msrvtt_data_train = load_dataset(\"friedrichor/MSR-VTT\", name=\"train_7k\")\n",
    "msrvtt_data_train_df=msrvtt_data_train['train'].to_pandas()\n",
    "msrvtt_data_train_df.head()\n",
    "#print(\"MSR-VTT training dataset loaded with\", len(msrvtt_data_train_df), \"entries.\")"
   ]
  },
  {
   "cell_type": "code",
   "execution_count": 25,
   "id": "0d0321b1",
   "metadata": {},
   "outputs": [
    {
     "data": {
      "text/html": [
       "<div>\n",
       "<style scoped>\n",
       "    .dataframe tbody tr th:only-of-type {\n",
       "        vertical-align: middle;\n",
       "    }\n",
       "\n",
       "    .dataframe tbody tr th {\n",
       "        vertical-align: top;\n",
       "    }\n",
       "\n",
       "    .dataframe thead th {\n",
       "        text-align: right;\n",
       "    }\n",
       "</style>\n",
       "<table border=\"1\" class=\"dataframe\">\n",
       "  <thead>\n",
       "    <tr style=\"text-align: right;\">\n",
       "      <th></th>\n",
       "      <th>video_id</th>\n",
       "      <th>video</th>\n",
       "      <th>caption</th>\n",
       "      <th>source</th>\n",
       "      <th>category</th>\n",
       "      <th>url</th>\n",
       "      <th>start time</th>\n",
       "      <th>end time</th>\n",
       "      <th>id</th>\n",
       "      <th>file_path</th>\n",
       "      <th>clip_time</th>\n",
       "    </tr>\n",
       "  </thead>\n",
       "  <tbody>\n",
       "    <tr>\n",
       "      <th>0</th>\n",
       "      <td>video0</td>\n",
       "      <td>video0.mp4</td>\n",
       "      <td>[a car is shown, a group is dancing, a man drives a vehicle through the countryside, a man drives down the road in an audi, a man driving a car, a man is driving a car, a man is driving down a road, a man is driving in a car as part of a commercial, a man is driving, a man riding the car speedly in a narrow road, a man showing the various features of a car, a man silently narrates his experience driving an audi, a person is driving his car around curves in the road, a person telling about a car, guy driving a car down the road, man talking about a car while driving, the man drives the car, the man driving the audi as smooth as possible, a man is driving, guy driving a car down the road]</td>\n",
       "      <td>MSR-VTT</td>\n",
       "      <td>9</td>\n",
       "      <td>https://www.youtube.com/watch?v=9lZi22qLlEo</td>\n",
       "      <td>137.72</td>\n",
       "      <td>149.44</td>\n",
       "      <td>0</td>\n",
       "      <td>/home/zach/.cache/kagglehub/datasets/vishnutheepb/msrvtt/versions/1/TrainValVideo/video0.mp4</td>\n",
       "      <td>11.72</td>\n",
       "    </tr>\n",
       "    <tr>\n",
       "      <th>1</th>\n",
       "      <td>video1</td>\n",
       "      <td>video1.mp4</td>\n",
       "      <td>[in a kitchen a woman adds different ingredients into the pot and stirs it, a woman puts prawns and seasonings into a large pot on a stove, in the kitchen a woman makes a dish by adding ingredients mixing and allowing to boil on flame, a woman adding ingredients to a pot on the stove and stirring, instructions on how to cook a dish of prawns or crayfish are given on screen while the chef prepares the dish, a woman is in the kitchen making a recipe in a large pot with many ingredients, a woman adds some packets of spices and spoonfuls of tomato sauce to a pot then stirs it and covers the pot, a person add ingredients to a pot in a counter than stirs it, a person puts items in a pot on the stove in the kitchen, a woman cooking food with a metal pan on top of a stove, a woman adds different ingredients into a a pot on the stove, a woman in a kitchen is cooking a stew in a large pan on her stove, a women in a multi-color outfit is cooking a stew type dish in a silver pot, a woman adds ingredients to a pot that is simmering on a stove, a woman is preparing a seafood stew recipe on a stove demonstrating each step herself while at the same time the easy to read directions, in a kitchen a lady preferred crayfish with mixing of curry powder, a woman and a bowl spoon mixing dish inside kitchen to prepare to serve to eat displaying on screen, cooking the dried smoked prawn in a vessel having boiled water and the lied closed, a lady is making dried prawns curry and she added tomato puree and salt in it, a woman in a colorful scarf is showing how to make a stew]</td>\n",
       "      <td>MSR-VTT</td>\n",
       "      <td>16</td>\n",
       "      <td>https://www.youtube.com/watch?v=w4JM08PDEng</td>\n",
       "      <td>184.33</td>\n",
       "      <td>206.89</td>\n",
       "      <td>1</td>\n",
       "      <td>/home/zach/.cache/kagglehub/datasets/vishnutheepb/msrvtt/versions/1/TrainValVideo/video1.mp4</td>\n",
       "      <td>22.56</td>\n",
       "    </tr>\n",
       "    <tr>\n",
       "      <th>2</th>\n",
       "      <td>video2</td>\n",
       "      <td>video2.mp4</td>\n",
       "      <td>[a guying showing a tool, a man fixes a car, a man holding a combustion leak tester, a man is explaining how to use a car repair kit, a man is showing a pack, a man is showing how to test a vehicle for a leak, a man is talking about a combustion leak tester, a man is talking about a test for a car engine, a man is talking next to a car, a man is talking with a tool box, a man is talking, a man picks up a combustion leak test, a man presents a piece of equipment, a man shows an item which can be used for car repair, a man shows off his tools to fix his car, a man stands outside talking about an automotive combustion leak tester, an advertisement for tools, man talking about car things, scotty kilmer shows you how to test for leaks, a man is showing how to test a vehicle for a leak]</td>\n",
       "      <td>MSR-VTT</td>\n",
       "      <td>9</td>\n",
       "      <td>https://www.youtube.com/watch?v=QA7KVQq9vKA</td>\n",
       "      <td>31.17</td>\n",
       "      <td>41.24</td>\n",
       "      <td>2</td>\n",
       "      <td>/home/zach/.cache/kagglehub/datasets/vishnutheepb/msrvtt/versions/1/TrainValVideo/video2.mp4</td>\n",
       "      <td>10.07</td>\n",
       "    </tr>\n",
       "    <tr>\n",
       "      <th>3</th>\n",
       "      <td>video3</td>\n",
       "      <td>video3.mp4</td>\n",
       "      <td>[a big door is being opened in a video game, a bright light is flashing, a cartoon of a door opening, a door is opened and a bright light is shown, a door opens and a pink light shines out of it, a door opens with bright lights, a door with different color boxes opens, a first-person perspective sees a futuristic door opening, a gate opens up and lets in light, a light rays comes when a door opens, a short 3d rendering taken in either a video game or movie, a short minecraft video showing a door being opened, a strange door opens, a video game transition sequence shows doors opening in a large hall, a virtual door made of blocks opening up, an animated door opened, an animated door opens up, an animated wall opened up, a door opens and a pink light shines out of it, a first-person perspective sees a futuristic door opening]</td>\n",
       "      <td>MSR-VTT</td>\n",
       "      <td>8</td>\n",
       "      <td>https://www.youtube.com/watch?v=QFmJZ0GU6yc</td>\n",
       "      <td>48.26</td>\n",
       "      <td>58.51</td>\n",
       "      <td>3</td>\n",
       "      <td>/home/zach/.cache/kagglehub/datasets/vishnutheepb/msrvtt/versions/1/TrainValVideo/video3.mp4</td>\n",
       "      <td>10.25</td>\n",
       "    </tr>\n",
       "    <tr>\n",
       "      <th>4</th>\n",
       "      <td>video4</td>\n",
       "      <td>video4.mp4</td>\n",
       "      <td>[a girl wearing a black shirt, a man is arguing about the need for eyebrows with a woman, a man is chastising a woman over her eyebrows, a man is joking with a woman about not needing eyebrows, a man is talking to a woman about not needing eye brows, a man is telling about lady s eyebrows, a man is trying to convince a woman about the uselessness of eyebrows, a man talks to a woman about her eyebrows, a man yells at a woman about not needing eyebrows, a woman is in the kitchen, a woman is walking around her kitchen, a woman talks about her eyebrows, clip of person talking about eyebrows, in a kitchen a girl checks food in the oven, man talking to a woman about eyebrows, man tells woman that she doesn t need eyebrows, man trying to convince a woman that she doesn t need eybrows, people are in the kitchen, woman showing her kitchen oven, woman talking to a man]</td>\n",
       "      <td>MSR-VTT</td>\n",
       "      <td>14</td>\n",
       "      <td>https://www.youtube.com/watch?v=2q-dONPhzis</td>\n",
       "      <td>268.58</td>\n",
       "      <td>278.83</td>\n",
       "      <td>4</td>\n",
       "      <td>/home/zach/.cache/kagglehub/datasets/vishnutheepb/msrvtt/versions/1/TrainValVideo/video4.mp4</td>\n",
       "      <td>10.25</td>\n",
       "    </tr>\n",
       "  </tbody>\n",
       "</table>\n",
       "</div>"
      ],
      "text/plain": [
       "  video_id       video  \\\n",
       "0   video0  video0.mp4   \n",
       "1   video1  video1.mp4   \n",
       "2   video2  video2.mp4   \n",
       "3   video3  video3.mp4   \n",
       "4   video4  video4.mp4   \n",
       "\n",
       "                                                                                                                                                                                                                                                                                                                                                                                                                                                                                                                                                                                                                                                                                                                                                                                                                                                                                                                                                                                                                                                                                                                                                                                                                                                                                                                                                                                                                                                                                                                                                                                                                                   caption  \\\n",
       "0                                                                                                                                                                                                                                                                                                                                                                                                                                                                                                                                                                                                                                                                                                                                                                                                                                                                                                                  [a car is shown, a group is dancing, a man drives a vehicle through the countryside, a man drives down the road in an audi, a man driving a car, a man is driving a car, a man is driving down a road, a man is driving in a car as part of a commercial, a man is driving, a man riding the car speedly in a narrow road, a man showing the various features of a car, a man silently narrates his experience driving an audi, a person is driving his car around curves in the road, a person telling about a car, guy driving a car down the road, man talking about a car while driving, the man drives the car, the man driving the audi as smooth as possible, a man is driving, guy driving a car down the road]   \n",
       "1  [in a kitchen a woman adds different ingredients into the pot and stirs it, a woman puts prawns and seasonings into a large pot on a stove, in the kitchen a woman makes a dish by adding ingredients mixing and allowing to boil on flame, a woman adding ingredients to a pot on the stove and stirring, instructions on how to cook a dish of prawns or crayfish are given on screen while the chef prepares the dish, a woman is in the kitchen making a recipe in a large pot with many ingredients, a woman adds some packets of spices and spoonfuls of tomato sauce to a pot then stirs it and covers the pot, a person add ingredients to a pot in a counter than stirs it, a person puts items in a pot on the stove in the kitchen, a woman cooking food with a metal pan on top of a stove, a woman adds different ingredients into a a pot on the stove, a woman in a kitchen is cooking a stew in a large pan on her stove, a women in a multi-color outfit is cooking a stew type dish in a silver pot, a woman adds ingredients to a pot that is simmering on a stove, a woman is preparing a seafood stew recipe on a stove demonstrating each step herself while at the same time the easy to read directions, in a kitchen a lady preferred crayfish with mixing of curry powder, a woman and a bowl spoon mixing dish inside kitchen to prepare to serve to eat displaying on screen, cooking the dried smoked prawn in a vessel having boiled water and the lied closed, a lady is making dried prawns curry and she added tomato puree and salt in it, a woman in a colorful scarf is showing how to make a stew]   \n",
       "2                                                                                                                                                                                                                                                                                                                                                                                                                                                                                                                                                                                                                                                                                                                                                                                                                  [a guying showing a tool, a man fixes a car, a man holding a combustion leak tester, a man is explaining how to use a car repair kit, a man is showing a pack, a man is showing how to test a vehicle for a leak, a man is talking about a combustion leak tester, a man is talking about a test for a car engine, a man is talking next to a car, a man is talking with a tool box, a man is talking, a man picks up a combustion leak test, a man presents a piece of equipment, a man shows an item which can be used for car repair, a man shows off his tools to fix his car, a man stands outside talking about an automotive combustion leak tester, an advertisement for tools, man talking about car things, scotty kilmer shows you how to test for leaks, a man is showing how to test a vehicle for a leak]   \n",
       "3                                                                                                                                                                                                                                                                                                                                                                                                                                                                                                                                                                                                                                                                                                                                                                      [a big door is being opened in a video game, a bright light is flashing, a cartoon of a door opening, a door is opened and a bright light is shown, a door opens and a pink light shines out of it, a door opens with bright lights, a door with different color boxes opens, a first-person perspective sees a futuristic door opening, a gate opens up and lets in light, a light rays comes when a door opens, a short 3d rendering taken in either a video game or movie, a short minecraft video showing a door being opened, a strange door opens, a video game transition sequence shows doors opening in a large hall, a virtual door made of blocks opening up, an animated door opened, an animated door opens up, an animated wall opened up, a door opens and a pink light shines out of it, a first-person perspective sees a futuristic door opening]   \n",
       "4                                                                                                                                                                                                                                                                                                                                                                                                                                                                                                                                                                                                                                                                                                                                  [a girl wearing a black shirt, a man is arguing about the need for eyebrows with a woman, a man is chastising a woman over her eyebrows, a man is joking with a woman about not needing eyebrows, a man is talking to a woman about not needing eye brows, a man is telling about lady s eyebrows, a man is trying to convince a woman about the uselessness of eyebrows, a man talks to a woman about her eyebrows, a man yells at a woman about not needing eyebrows, a woman is in the kitchen, a woman is walking around her kitchen, a woman talks about her eyebrows, clip of person talking about eyebrows, in a kitchen a girl checks food in the oven, man talking to a woman about eyebrows, man tells woman that she doesn t need eyebrows, man trying to convince a woman that she doesn t need eybrows, people are in the kitchen, woman showing her kitchen oven, woman talking to a man]   \n",
       "\n",
       "    source  category                                          url  start time  \\\n",
       "0  MSR-VTT         9  https://www.youtube.com/watch?v=9lZi22qLlEo      137.72   \n",
       "1  MSR-VTT        16  https://www.youtube.com/watch?v=w4JM08PDEng      184.33   \n",
       "2  MSR-VTT         9  https://www.youtube.com/watch?v=QA7KVQq9vKA       31.17   \n",
       "3  MSR-VTT         8  https://www.youtube.com/watch?v=QFmJZ0GU6yc       48.26   \n",
       "4  MSR-VTT        14  https://www.youtube.com/watch?v=2q-dONPhzis      268.58   \n",
       "\n",
       "   end time  id  \\\n",
       "0    149.44   0   \n",
       "1    206.89   1   \n",
       "2     41.24   2   \n",
       "3     58.51   3   \n",
       "4    278.83   4   \n",
       "\n",
       "                                                                                      file_path  \\\n",
       "0  /home/zach/.cache/kagglehub/datasets/vishnutheepb/msrvtt/versions/1/TrainValVideo/video0.mp4   \n",
       "1  /home/zach/.cache/kagglehub/datasets/vishnutheepb/msrvtt/versions/1/TrainValVideo/video1.mp4   \n",
       "2  /home/zach/.cache/kagglehub/datasets/vishnutheepb/msrvtt/versions/1/TrainValVideo/video2.mp4   \n",
       "3  /home/zach/.cache/kagglehub/datasets/vishnutheepb/msrvtt/versions/1/TrainValVideo/video3.mp4   \n",
       "4  /home/zach/.cache/kagglehub/datasets/vishnutheepb/msrvtt/versions/1/TrainValVideo/video4.mp4   \n",
       "\n",
       "   clip_time  \n",
       "0      11.72  \n",
       "1      22.56  \n",
       "2      10.07  \n",
       "3      10.25  \n",
       "4      10.25  "
      ]
     },
     "execution_count": 25,
     "metadata": {},
     "output_type": "execute_result"
    }
   ],
   "source": [
    "# merging the dataframes on the video file names\n",
    "full_msrvtt_df = msrvtt_data_train_df.merge(\n",
    "    path_df,\n",
    "    left_on=\"video\",\n",
    "    right_on=\"video_name\",\n",
    "    how=\"left\"\n",
    ")\n",
    "# dropping the redundant video_name column\n",
    "full_msrvtt_df.drop(columns=[\"video_name\"], inplace=True)\n",
    "\n",
    "# adding a clip_time column to the dataframe\n",
    "full_msrvtt_df[\"clip_time\"] = full_msrvtt_df[\"end time\"] - full_msrvtt_df[\"start time\"]\n",
    "\n",
    "full_msrvtt_df.head()"
   ]
  },
  {
   "cell_type": "code",
   "execution_count": 26,
   "id": "8f65270f",
   "metadata": {},
   "outputs": [
    {
     "data": {
      "text/html": [
       "<div>\n",
       "<style scoped>\n",
       "    .dataframe tbody tr th:only-of-type {\n",
       "        vertical-align: middle;\n",
       "    }\n",
       "\n",
       "    .dataframe tbody tr th {\n",
       "        vertical-align: top;\n",
       "    }\n",
       "\n",
       "    .dataframe thead th {\n",
       "        text-align: right;\n",
       "    }\n",
       "</style>\n",
       "<table border=\"1\" class=\"dataframe\">\n",
       "  <thead>\n",
       "    <tr style=\"text-align: right;\">\n",
       "      <th></th>\n",
       "      <th>file_path</th>\n",
       "    </tr>\n",
       "  </thead>\n",
       "  <tbody>\n",
       "    <tr>\n",
       "      <th>0</th>\n",
       "      <td>/home/zach/.cache/kagglehub/datasets/vishnutheepb/msrvtt/versions/1/TrainValVideo/video0.mp4</td>\n",
       "    </tr>\n",
       "    <tr>\n",
       "      <th>1</th>\n",
       "      <td>/home/zach/.cache/kagglehub/datasets/vishnutheepb/msrvtt/versions/1/TrainValVideo/video1.mp4</td>\n",
       "    </tr>\n",
       "    <tr>\n",
       "      <th>2</th>\n",
       "      <td>/home/zach/.cache/kagglehub/datasets/vishnutheepb/msrvtt/versions/1/TrainValVideo/video2.mp4</td>\n",
       "    </tr>\n",
       "    <tr>\n",
       "      <th>3</th>\n",
       "      <td>/home/zach/.cache/kagglehub/datasets/vishnutheepb/msrvtt/versions/1/TrainValVideo/video3.mp4</td>\n",
       "    </tr>\n",
       "    <tr>\n",
       "      <th>4</th>\n",
       "      <td>/home/zach/.cache/kagglehub/datasets/vishnutheepb/msrvtt/versions/1/TrainValVideo/video4.mp4</td>\n",
       "    </tr>\n",
       "  </tbody>\n",
       "</table>\n",
       "</div>"
      ],
      "text/plain": [
       "                                                                                      file_path\n",
       "0  /home/zach/.cache/kagglehub/datasets/vishnutheepb/msrvtt/versions/1/TrainValVideo/video0.mp4\n",
       "1  /home/zach/.cache/kagglehub/datasets/vishnutheepb/msrvtt/versions/1/TrainValVideo/video1.mp4\n",
       "2  /home/zach/.cache/kagglehub/datasets/vishnutheepb/msrvtt/versions/1/TrainValVideo/video2.mp4\n",
       "3  /home/zach/.cache/kagglehub/datasets/vishnutheepb/msrvtt/versions/1/TrainValVideo/video3.mp4\n",
       "4  /home/zach/.cache/kagglehub/datasets/vishnutheepb/msrvtt/versions/1/TrainValVideo/video4.mp4"
      ]
     },
     "execution_count": 26,
     "metadata": {},
     "output_type": "execute_result"
    }
   ],
   "source": [
    "# displaying the full file paths in the dataframe in order to verify that file paths have been merged correctly\n",
    "pd.set_option('display.max_colwidth', None)\n",
    "full_msrvtt_df[[\"file_path\"]].head()"
   ]
  },
  {
   "cell_type": "markdown",
   "id": "b0722b67",
   "metadata": {},
   "source": [
    "### Decode and Sample the frames from the videos"
   ]
  },
  {
   "cell_type": "code",
   "execution_count": null,
   "id": "527af858",
   "metadata": {},
   "outputs": [
    {
     "ename": "TypeError",
     "evalue": "expected str, bytes or os.PathLike object, not list",
     "output_type": "error",
     "traceback": [
      "\u001b[0;31m---------------------------------------------------------------------------\u001b[0m",
      "\u001b[0;31mTypeError\u001b[0m                                 Traceback (most recent call last)",
      "Cell \u001b[0;32mIn[5], line 5\u001b[0m\n\u001b[1;32m      2\u001b[0m cache_item \u001b[38;5;241m=\u001b[39m msrvtt_data_train\u001b[38;5;241m.\u001b[39mcache_files[\u001b[38;5;124m\"\u001b[39m\u001b[38;5;124mtrain\u001b[39m\u001b[38;5;124m\"\u001b[39m][:]  \u001b[38;5;66;03m# usually the ZIP\u001b[39;00m\n\u001b[1;32m      4\u001b[0m \u001b[38;5;66;03m# this is the cache folder \u001b[39;00m\n\u001b[0;32m----> 5\u001b[0m base_dir \u001b[38;5;241m=\u001b[39m \u001b[43mos\u001b[49m\u001b[38;5;241;43m.\u001b[39;49m\u001b[43mpath\u001b[49m\u001b[38;5;241;43m.\u001b[39;49m\u001b[43mdirname\u001b[49m\u001b[43m(\u001b[49m\u001b[43mcache_item\u001b[49m\u001b[43m)\u001b[49m  \u001b[38;5;66;03m# cache folder for this dataset/config\u001b[39;00m\n\u001b[1;32m      7\u001b[0m vid_path \u001b[38;5;241m=\u001b[39m row[\u001b[38;5;124m\"\u001b[39m\u001b[38;5;124mvideo\u001b[39m\u001b[38;5;124m\"\u001b[39m]\n\u001b[1;32m      9\u001b[0m \u001b[38;5;66;03m# making sure the video path is absolute\u001b[39;00m\n",
      "File \u001b[0;32m/usr/lib/python3.10/posixpath.py:152\u001b[0m, in \u001b[0;36mdirname\u001b[0;34m(p)\u001b[0m\n\u001b[1;32m    150\u001b[0m \u001b[38;5;28;01mdef\u001b[39;00m\u001b[38;5;250m \u001b[39m\u001b[38;5;21mdirname\u001b[39m(p):\n\u001b[1;32m    151\u001b[0m \u001b[38;5;250m    \u001b[39m\u001b[38;5;124;03m\"\"\"Returns the directory component of a pathname\"\"\"\u001b[39;00m\n\u001b[0;32m--> 152\u001b[0m     p \u001b[38;5;241m=\u001b[39m \u001b[43mos\u001b[49m\u001b[38;5;241;43m.\u001b[39;49m\u001b[43mfspath\u001b[49m\u001b[43m(\u001b[49m\u001b[43mp\u001b[49m\u001b[43m)\u001b[49m\n\u001b[1;32m    153\u001b[0m     sep \u001b[38;5;241m=\u001b[39m _get_sep(p)\n\u001b[1;32m    154\u001b[0m     i \u001b[38;5;241m=\u001b[39m p\u001b[38;5;241m.\u001b[39mrfind(sep) \u001b[38;5;241m+\u001b[39m \u001b[38;5;241m1\u001b[39m\n",
      "\u001b[0;31mTypeError\u001b[0m: expected str, bytes or os.PathLike object, not list"
     ]
    }
   ],
   "source": [
    "    \n",
    "### Decode and sample frames from the videos\n",
    "def video_clipping(video_path,max_frames=32):\n",
    "    \"\"\"Extract frames from a video file.\"\"\"\n",
    "    \n",
    "    # vr is used create a VideoReader object to read the video file which allows for access to individual frames\n",
    "    vr = VideoReader(video_path, ctx=cpu(0))\n",
    "    \n",
    "    # idx is used to create a list of frame indices to be extracted from the video or sampled uniformly across the video's duration\n",
    "    idx = list(range(0, len(vr), max(1, len(vr)//max_frames)))[:max_frames]\n",
    "    \n",
    "    # frames is used to extract the frames from the video at the specified indices and convert them to a numpy array\n",
    "    frames = vr.get_batch(idx).asnumpy()   # (T, H, W, 3) uint8\n",
    "    \n",
    "    return frames\n",
    "\n",
    "\n"
   ]
  }
 ],
 "metadata": {
  "kernelspec": {
   "display_name": ".venv",
   "language": "python",
   "name": "python3"
  },
  "language_info": {
   "codemirror_mode": {
    "name": "ipython",
    "version": 3
   },
   "file_extension": ".py",
   "mimetype": "text/x-python",
   "name": "python",
   "nbconvert_exporter": "python",
   "pygments_lexer": "ipython3",
   "version": "3.10.12"
  }
 },
 "nbformat": 4,
 "nbformat_minor": 5
}
